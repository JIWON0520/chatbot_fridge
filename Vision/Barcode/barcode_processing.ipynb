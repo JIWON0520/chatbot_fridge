{
 "cells": [
  {
   "cell_type": "code",
   "execution_count": 1,
   "metadata": {},
   "outputs": [],
   "source": [
    "import json, urllib.request"
   ]
  },
  {
   "cell_type": "code",
   "execution_count": 16,
   "metadata": {},
   "outputs": [],
   "source": [
    "def BRCD_CD(apikey, startRow, endRow, BAR_BRCD_CD):\n",
    "    output_list = []\n",
    "\n",
    "    keyId = 'I2570'\n",
    "\n",
    "    url = 'http://openapi.foodsafetykorea.go.kr/api/' + apikey + '/' + keyId + '/json/' + str(startRow) + '/' + str(\n",
    "        endRow) + '/BRCD_NO=' + BAR_BRCD_CD\n",
    "\n",
    "    data = urllib.request.urlopen(url).read()\n",
    "    output = json.loads(data)\n",
    "    output = output[keyId]\n",
    "\n",
    "    try:\n",
    "        output = output['row']\n",
    "        output_1 = output[0]\n",
    "\n",
    "        output_list.append(output_1['HTRK_PRDLST_NM'])\n",
    "        output_list.append(output_1['HRNK_PRDLST_NM'])\n",
    "        output_list.append(output_1['PRDLST_NM'])\n",
    "\n",
    "        return output_list\n",
    "    except:\n",
    "        return 'no data'\n",
    "\n",
    "    # (대분류,중분류,소분류) 리턴\n",
    "    # 대분류 = HTRK_PRDLST_NM\n",
    "    # 중분류 = HRNK_PRDLST_NM\n",
    "    # 소분류 = PRDLST_NM"
   ]
  },
  {
   "cell_type": "code",
   "execution_count": 17,
   "metadata": {},
   "outputs": [],
   "source": [
    "def BAR_CD(apikey, startRow, endRow, BAR_BRCD_CD):\n",
    "    output_list = []\n",
    "\n",
    "    keyId = 'C005'\n",
    "\n",
    "    url = 'http://openapi.foodsafetykorea.go.kr/api/' + apikey + '/' + keyId + '/json/' + str(startRow) + '/' + str(\n",
    "        endRow) + '/BAR_CD=' + BAR_BRCD_CD\n",
    "    \n",
    "    data = urllib.request.urlopen(url).read()\n",
    "    output = json.loads(data)\n",
    "\n",
    "    output = output[keyId]\n",
    "\n",
    "    try:\n",
    "        output = output['row']\n",
    "        output_1 = output[0]\n",
    "\n",
    "        output_list.append('기타')\n",
    "        output_list.append(output_1['PRDLST_DCNM'])\n",
    "        output_list.append(output_1['PRDLST_NM'])\n",
    "\n",
    "        return output_list\n",
    "    except:\n",
    "        return 'no data'\n",
    "\n",
    "    # ('기타',중분류,소분류) 리턴\n",
    "    # 중분류 = PRDLST_DCNM\n",
    "    # 소분류 = PRDLST_NM"
   ]
  },
  {
   "cell_type": "code",
   "execution_count": 18,
   "metadata": {},
   "outputs": [],
   "source": [
    "def processing(AR_BRCD_CDB):\n",
    "    apikey = '0acf2740895d47c4a77c'\n",
    "\n",
    "    startRow = 1\n",
    "    endRow = 1\n",
    "\n",
    "    # 유통기한 검색 API (1)\n",
    "    BRCD_CD_output = BRCD_CD(apikey, startRow, endRow, BAR_BRCD_CD)\n",
    "\n",
    "    if BRCD_CD_output != 'no data':\n",
    "        return BRCD_CD_output\n",
    "    else:\n",
    "        # 유통기한 검색 API (2)\n",
    "        BAR_CD_output = BAR_CD(apikey, startRow, endRow, BAR_BRCD_CD)\n",
    "        if BAR_CD_output != 'no data':\n",
    "            return BAR_CD_output\n",
    "        else:\n",
    "            return 0\n"
   ]
  },
  {
   "cell_type": "code",
   "execution_count": 19,
   "metadata": {},
   "outputs": [
    {
     "name": "stdout",
     "output_type": "stream",
     "text": [
      "['가공식품', '건포류', '건어포']\n"
     ]
    }
   ],
   "source": [
    "print(processing('8809360172530'))"
   ]
  },
  {
   "cell_type": "code",
   "execution_count": null,
   "metadata": {},
   "outputs": [],
   "source": []
  }
 ],
 "metadata": {
  "interpreter": {
   "hash": "31f2aee4e71d21fbe5cf8b01ff0e069b9275f58929596ceb00d14d90e3e16cd6"
  },
  "kernelspec": {
   "display_name": "Python 3.8.10 64-bit",
   "language": "python",
   "name": "python3"
  },
  "language_info": {
   "codemirror_mode": {
    "name": "ipython",
    "version": 3
   },
   "file_extension": ".py",
   "mimetype": "text/x-python",
   "name": "python",
   "nbconvert_exporter": "python",
   "pygments_lexer": "ipython3",
   "version": "3.8.10"
  },
  "orig_nbformat": 4
 },
 "nbformat": 4,
 "nbformat_minor": 2
}
